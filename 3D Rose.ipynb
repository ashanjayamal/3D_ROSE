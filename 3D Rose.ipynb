import numpy as np
import matplotlib.pyplot as plt
from mpl_toolkits.mplot3d import Axes3D

# Parameters
n = 800
A = 1.995653
B = 1.27689
C = 8
petalNum = 3.6

# Create grid
r = np.linspace(0, 1, n)
theta = np.linspace(-2, 20 * np.pi, n)
R, THETA = np.meshgrid(r, theta)

# Calculate coordinates
x = 1 - (1/2) * ((5/4) * (1 - np.mod(petalNum * THETA, 2 * np.pi) / np.pi)**2 - 1/4)**2
phi = (np.pi/2) * np.exp(-THETA / (C * np.pi))
y = A * (R**2) * (B * R - 1)**2 * np.sin(phi)
R2 = x * (R * np.sin(phi) + y * np.cos(phi))
X = R2 * np.sin(THETA)
Y = R2 * np.cos(THETA)
Z = x * (R * np.cos(phi) - y * np.sin(phi))

# Create colormap
red_map = np.linspace(1, 0.25, 10).reshape(-1, 1)
red_map = np.hstack([red_map, np.zeros_like(red_map), np.zeros_like(red_map)])

# Plot the surface
fig = plt.figure()
ax = fig.add_subplot(111, projection='3d')
ax.plot_surface(X, Y, Z, cmap=plt.cm.Reds, linewidth=0, antialiased=False)
ax.view_init(elev=42, azim=-40.5)
plt.show()
